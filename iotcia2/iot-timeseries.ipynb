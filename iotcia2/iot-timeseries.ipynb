{
 "cells": [
  {
   "cell_type": "code",
   "execution_count": 49,
   "metadata": {
    "execution": {
     "iopub.execute_input": "2020-09-09T08:09:34.213481Z",
     "iopub.status.busy": "2020-09-09T08:09:34.212010Z",
     "iopub.status.idle": "2020-09-09T08:09:36.954086Z",
     "shell.execute_reply": "2020-09-09T08:09:36.953248Z"
    },
    "papermill": {
     "duration": 2.774468,
     "end_time": "2020-09-09T08:09:36.954234",
     "exception": false,
     "start_time": "2020-09-09T08:09:34.179766",
     "status": "completed"
    },
    "tags": []
   },
   "outputs": [],
   "source": [
    "import numpy as np\n",
    "import pandas as pd\n",
    "import matplotlib.pyplot as plt\n",
    "from sklearn.preprocessing import *\n",
    "from sklearn.model_selection import *\n",
    "from sklearn.metrics import *\n",
    "import gc\n",
    "from sklearn.tree import DecisionTreeClassifier\n",
    "from xgboost import XGBRegressor\n",
    "from catboost import CatBoostRegressor\n",
    "from lightgbm import LGBMRegressor\n",
    "from sklearn.ensemble import ExtraTreesClassifier, VotingClassifier\n",
    "from datetime import datetime\n",
    "import time\n",
    "np.random.seed(0)"
   ]
  },
  {
   "cell_type": "code",
   "execution_count": 50,
   "metadata": {
    "execution": {
     "iopub.execute_input": "2020-09-09T08:09:37.097325Z",
     "iopub.status.busy": "2020-09-09T08:09:37.096671Z",
     "iopub.status.idle": "2020-09-09T08:09:37.183947Z",
     "shell.execute_reply": "2020-09-09T08:09:37.183173Z"
    },
    "papermill": {
     "duration": 0.116379,
     "end_time": "2020-09-09T08:09:37.184082",
     "exception": false,
     "start_time": "2020-09-09T08:09:37.067703",
     "status": "completed"
    },
    "tags": []
   },
   "outputs": [],
   "source": [
    "train = pd.read_csv('train_ML_IOT.csv')\n",
    "test = pd.read_csv('test_ML_IOT.csv')"
   ]
  },
  {
   "cell_type": "code",
   "execution_count": 51,
   "metadata": {
    "execution": {
     "iopub.execute_input": "2020-09-09T08:09:37.279362Z",
     "iopub.status.busy": "2020-09-09T08:09:37.276977Z",
     "iopub.status.idle": "2020-09-09T08:09:37.318404Z",
     "shell.execute_reply": "2020-09-09T08:09:37.317597Z"
    },
    "papermill": {
     "duration": 0.075043,
     "end_time": "2020-09-09T08:09:37.318618",
     "exception": false,
     "start_time": "2020-09-09T08:09:37.243575",
     "status": "completed"
    },
    "tags": []
   },
   "outputs": [
    {
     "name": "stdout",
     "output_type": "stream",
     "text": [
      " Information of  Train : Rows =  48120 | Columns =  4 \n",
      "\n",
      "<class 'pandas.core.frame.DataFrame'>\n",
      "RangeIndex: 48120 entries, 0 to 48119\n",
      "Data columns (total 4 columns):\n",
      " #   Column    Non-Null Count  Dtype \n",
      "---  ------    --------------  ----- \n",
      " 0   DateTime  48120 non-null  object\n",
      " 1   Junction  48120 non-null  int64 \n",
      " 2   Vehicles  48120 non-null  int64 \n",
      " 3   ID        48120 non-null  int64 \n",
      "dtypes: int64(3), object(1)\n",
      "memory usage: 1.5+ MB\n",
      "\n",
      "\n",
      "3 int64 Features\n",
      "Junction    int64\n",
      "Vehicles    int64\n",
      "ID          int64\n",
      "dtype: object\n",
      "\n",
      "1 object Features\n",
      "DateTime    object\n",
      "dtype: object\n",
      "\n"
     ]
    }
   ],
   "source": [
    "def display_data_information(data, data_types, dataframe_name):\n",
    "    print(\" Information of \",dataframe_name,\": Rows = \",data.shape[0],\"| Columns = \",data.shape[1],\"\\n\")\n",
    "    data.info()\n",
    "    print(\"\\n\")\n",
    "    for VARIABLE in data_types :\n",
    "        data_type = data.select_dtypes(include=[ VARIABLE ]).dtypes\n",
    "        if len(data_type) > 0 :\n",
    "            print(str(len(data_type))+\" \"+VARIABLE+\" Features\\n\"+str(data_type)+\"\\n\"  )        \n",
    "\n",
    "data_types  = [\"float32\",\"float64\",\"int32\",\"int64\",\"object\",\"category\",\"datetime64[ns]\"]\n",
    "display_data_information(train, data_types, \"Train\")"
   ]
  },
  {
   "cell_type": "code",
   "execution_count": 52,
   "metadata": {
    "execution": {
     "iopub.execute_input": "2020-09-09T08:09:37.361968Z",
     "iopub.status.busy": "2020-09-09T08:09:37.361092Z",
     "iopub.status.idle": "2020-09-09T08:09:37.388209Z",
     "shell.execute_reply": "2020-09-09T08:09:37.387180Z"
    },
    "papermill": {
     "duration": 0.051648,
     "end_time": "2020-09-09T08:09:37.388410",
     "exception": false,
     "start_time": "2020-09-09T08:09:37.336762",
     "status": "completed"
    },
    "tags": []
   },
   "outputs": [
    {
     "name": "stdout",
     "output_type": "stream",
     "text": [
      " Information of  Test : Rows =  11808 | Columns =  3 \n",
      "\n",
      "<class 'pandas.core.frame.DataFrame'>\n",
      "RangeIndex: 11808 entries, 0 to 11807\n",
      "Data columns (total 3 columns):\n",
      " #   Column    Non-Null Count  Dtype \n",
      "---  ------    --------------  ----- \n",
      " 0   DateTime  11808 non-null  object\n",
      " 1   Junction  11808 non-null  int64 \n",
      " 2   ID        11808 non-null  int64 \n",
      "dtypes: int64(2), object(1)\n",
      "memory usage: 276.9+ KB\n",
      "\n",
      "\n",
      "2 int64 Features\n",
      "Junction    int64\n",
      "ID          int64\n",
      "dtype: object\n",
      "\n",
      "1 object Features\n",
      "DateTime    object\n",
      "dtype: object\n",
      "\n"
     ]
    }
   ],
   "source": [
    "data_types  = [\"float32\",\"float64\",\"int32\",\"int64\",\"object\",\"category\",\"datetime64[ns]\"]\n",
    "display_data_information(test, data_types, \"Test\")"
   ]
  },
  {
   "cell_type": "code",
   "execution_count": 53,
   "metadata": {
    "execution": {
     "iopub.execute_input": "2020-09-09T08:09:37.433761Z",
     "iopub.status.busy": "2020-09-09T08:09:37.432774Z",
     "iopub.status.idle": "2020-09-09T08:09:37.453529Z",
     "shell.execute_reply": "2020-09-09T08:09:37.452970Z"
    },
    "papermill": {
     "duration": 0.043299,
     "end_time": "2020-09-09T08:09:37.453653",
     "exception": false,
     "start_time": "2020-09-09T08:09:37.410354",
     "status": "completed"
    },
    "tags": []
   },
   "outputs": [
    {
     "data": {
      "text/plain": [
       "'Data Head & Tail :'"
      ]
     },
     "metadata": {},
     "output_type": "display_data"
    },
    {
     "data": {
      "text/html": [
       "<div>\n",
       "<style scoped>\n",
       "    .dataframe tbody tr th:only-of-type {\n",
       "        vertical-align: middle;\n",
       "    }\n",
       "\n",
       "    .dataframe tbody tr th {\n",
       "        vertical-align: top;\n",
       "    }\n",
       "\n",
       "    .dataframe thead th {\n",
       "        text-align: right;\n",
       "    }\n",
       "</style>\n",
       "<table border=\"1\" class=\"dataframe\">\n",
       "  <thead>\n",
       "    <tr style=\"text-align: right;\">\n",
       "      <th></th>\n",
       "      <th>DateTime</th>\n",
       "      <th>Junction</th>\n",
       "      <th>Vehicles</th>\n",
       "      <th>ID</th>\n",
       "    </tr>\n",
       "  </thead>\n",
       "  <tbody>\n",
       "    <tr>\n",
       "      <th>0</th>\n",
       "      <td>2015-11-01 00:00:00</td>\n",
       "      <td>1</td>\n",
       "      <td>15</td>\n",
       "      <td>20151101001</td>\n",
       "    </tr>\n",
       "    <tr>\n",
       "      <th>1</th>\n",
       "      <td>2015-11-01 01:00:00</td>\n",
       "      <td>1</td>\n",
       "      <td>13</td>\n",
       "      <td>20151101011</td>\n",
       "    </tr>\n",
       "    <tr>\n",
       "      <th>2</th>\n",
       "      <td>2015-11-01 02:00:00</td>\n",
       "      <td>1</td>\n",
       "      <td>10</td>\n",
       "      <td>20151101021</td>\n",
       "    </tr>\n",
       "    <tr>\n",
       "      <th>48118</th>\n",
       "      <td>2017-06-30 22:00:00</td>\n",
       "      <td>4</td>\n",
       "      <td>22</td>\n",
       "      <td>20170630224</td>\n",
       "    </tr>\n",
       "    <tr>\n",
       "      <th>48119</th>\n",
       "      <td>2017-06-30 23:00:00</td>\n",
       "      <td>4</td>\n",
       "      <td>12</td>\n",
       "      <td>20170630234</td>\n",
       "    </tr>\n",
       "  </tbody>\n",
       "</table>\n",
       "</div>"
      ],
      "text/plain": [
       "                  DateTime  Junction  Vehicles           ID\n",
       "0      2015-11-01 00:00:00         1        15  20151101001\n",
       "1      2015-11-01 01:00:00         1        13  20151101011\n",
       "2      2015-11-01 02:00:00         1        10  20151101021\n",
       "48118  2017-06-30 22:00:00         4        22  20170630224\n",
       "48119  2017-06-30 23:00:00         4        12  20170630234"
      ]
     },
     "metadata": {},
     "output_type": "display_data"
    }
   ],
   "source": [
    "def display_head_tail(data, head_rows, tail_rows):\n",
    "    display(\"Data Head & Tail :\")\n",
    "    display(data.head(head_rows).append(data.tail(tail_rows)))\n",
    "\n",
    "display_head_tail(train, head_rows=3, tail_rows=2)"
   ]
  },
  {
   "cell_type": "code",
   "execution_count": 54,
   "metadata": {
    "execution": {
     "iopub.execute_input": "2020-09-09T08:09:37.494577Z",
     "iopub.status.busy": "2020-09-09T08:09:37.493937Z",
     "iopub.status.idle": "2020-09-09T08:09:37.506732Z",
     "shell.execute_reply": "2020-09-09T08:09:37.506118Z"
    },
    "papermill": {
     "duration": 0.035689,
     "end_time": "2020-09-09T08:09:37.506855",
     "exception": false,
     "start_time": "2020-09-09T08:09:37.471166",
     "status": "completed"
    },
    "tags": []
   },
   "outputs": [
    {
     "data": {
      "text/plain": [
       "'Data Head & Tail :'"
      ]
     },
     "metadata": {},
     "output_type": "display_data"
    },
    {
     "data": {
      "text/html": [
       "<div>\n",
       "<style scoped>\n",
       "    .dataframe tbody tr th:only-of-type {\n",
       "        vertical-align: middle;\n",
       "    }\n",
       "\n",
       "    .dataframe tbody tr th {\n",
       "        vertical-align: top;\n",
       "    }\n",
       "\n",
       "    .dataframe thead th {\n",
       "        text-align: right;\n",
       "    }\n",
       "</style>\n",
       "<table border=\"1\" class=\"dataframe\">\n",
       "  <thead>\n",
       "    <tr style=\"text-align: right;\">\n",
       "      <th></th>\n",
       "      <th>DateTime</th>\n",
       "      <th>Junction</th>\n",
       "      <th>ID</th>\n",
       "    </tr>\n",
       "  </thead>\n",
       "  <tbody>\n",
       "    <tr>\n",
       "      <th>0</th>\n",
       "      <td>2017-07-01 00:00:00</td>\n",
       "      <td>1</td>\n",
       "      <td>20170701001</td>\n",
       "    </tr>\n",
       "    <tr>\n",
       "      <th>1</th>\n",
       "      <td>2017-07-01 01:00:00</td>\n",
       "      <td>1</td>\n",
       "      <td>20170701011</td>\n",
       "    </tr>\n",
       "    <tr>\n",
       "      <th>2</th>\n",
       "      <td>2017-07-01 02:00:00</td>\n",
       "      <td>1</td>\n",
       "      <td>20170701021</td>\n",
       "    </tr>\n",
       "    <tr>\n",
       "      <th>11806</th>\n",
       "      <td>2017-10-31 22:00:00</td>\n",
       "      <td>4</td>\n",
       "      <td>20171031224</td>\n",
       "    </tr>\n",
       "    <tr>\n",
       "      <th>11807</th>\n",
       "      <td>2017-10-31 23:00:00</td>\n",
       "      <td>4</td>\n",
       "      <td>20171031234</td>\n",
       "    </tr>\n",
       "  </tbody>\n",
       "</table>\n",
       "</div>"
      ],
      "text/plain": [
       "                  DateTime  Junction           ID\n",
       "0      2017-07-01 00:00:00         1  20170701001\n",
       "1      2017-07-01 01:00:00         1  20170701011\n",
       "2      2017-07-01 02:00:00         1  20170701021\n",
       "11806  2017-10-31 22:00:00         4  20171031224\n",
       "11807  2017-10-31 23:00:00         4  20171031234"
      ]
     },
     "metadata": {},
     "output_type": "display_data"
    }
   ],
   "source": [
    "display_head_tail(test, head_rows=3, tail_rows=2)"
   ]
  },
  {
   "cell_type": "code",
   "execution_count": 55,
   "metadata": {
    "execution": {
     "iopub.execute_input": "2020-09-09T08:09:37.556345Z",
     "iopub.status.busy": "2020-09-09T08:09:37.555708Z",
     "iopub.status.idle": "2020-09-09T08:09:37.611960Z",
     "shell.execute_reply": "2020-09-09T08:09:37.611406Z"
    },
    "papermill": {
     "duration": 0.086215,
     "end_time": "2020-09-09T08:09:37.612102",
     "exception": false,
     "start_time": "2020-09-09T08:09:37.525887",
     "status": "completed"
    },
    "tags": []
   },
   "outputs": [
    {
     "name": "stdout",
     "output_type": "stream",
     "text": [
      "Data Description :\n"
     ]
    },
    {
     "data": {
      "text/html": [
       "<div>\n",
       "<style scoped>\n",
       "    .dataframe tbody tr th:only-of-type {\n",
       "        vertical-align: middle;\n",
       "    }\n",
       "\n",
       "    .dataframe tbody tr th {\n",
       "        vertical-align: top;\n",
       "    }\n",
       "\n",
       "    .dataframe thead th {\n",
       "        text-align: right;\n",
       "    }\n",
       "</style>\n",
       "<table border=\"1\" class=\"dataframe\">\n",
       "  <thead>\n",
       "    <tr style=\"text-align: right;\">\n",
       "      <th></th>\n",
       "      <th>Junction</th>\n",
       "      <th>Vehicles</th>\n",
       "      <th>ID</th>\n",
       "    </tr>\n",
       "  </thead>\n",
       "  <tbody>\n",
       "    <tr>\n",
       "      <th>count</th>\n",
       "      <td>48120.000000</td>\n",
       "      <td>48120.000000</td>\n",
       "      <td>4.812000e+04</td>\n",
       "    </tr>\n",
       "    <tr>\n",
       "      <th>mean</th>\n",
       "      <td>2.180549</td>\n",
       "      <td>22.791334</td>\n",
       "      <td>2.016330e+10</td>\n",
       "    </tr>\n",
       "    <tr>\n",
       "      <th>std</th>\n",
       "      <td>0.966955</td>\n",
       "      <td>20.750063</td>\n",
       "      <td>5.944854e+06</td>\n",
       "    </tr>\n",
       "    <tr>\n",
       "      <th>min</th>\n",
       "      <td>1.000000</td>\n",
       "      <td>1.000000</td>\n",
       "      <td>2.015110e+10</td>\n",
       "    </tr>\n",
       "    <tr>\n",
       "      <th>25%</th>\n",
       "      <td>1.000000</td>\n",
       "      <td>9.000000</td>\n",
       "      <td>2.016042e+10</td>\n",
       "    </tr>\n",
       "    <tr>\n",
       "      <th>50%</th>\n",
       "      <td>2.000000</td>\n",
       "      <td>15.000000</td>\n",
       "      <td>2.016093e+10</td>\n",
       "    </tr>\n",
       "    <tr>\n",
       "      <th>75%</th>\n",
       "      <td>3.000000</td>\n",
       "      <td>29.000000</td>\n",
       "      <td>2.017023e+10</td>\n",
       "    </tr>\n",
       "    <tr>\n",
       "      <th>max</th>\n",
       "      <td>4.000000</td>\n",
       "      <td>180.000000</td>\n",
       "      <td>2.017063e+10</td>\n",
       "    </tr>\n",
       "  </tbody>\n",
       "</table>\n",
       "</div>"
      ],
      "text/plain": [
       "           Junction      Vehicles            ID\n",
       "count  48120.000000  48120.000000  4.812000e+04\n",
       "mean       2.180549     22.791334  2.016330e+10\n",
       "std        0.966955     20.750063  5.944854e+06\n",
       "min        1.000000      1.000000  2.015110e+10\n",
       "25%        1.000000      9.000000  2.016042e+10\n",
       "50%        2.000000     15.000000  2.016093e+10\n",
       "75%        3.000000     29.000000  2.017023e+10\n",
       "max        4.000000    180.000000  2.017063e+10"
      ]
     },
     "metadata": {},
     "output_type": "display_data"
    },
    {
     "data": {
      "text/html": [
       "<div>\n",
       "<style scoped>\n",
       "    .dataframe tbody tr th:only-of-type {\n",
       "        vertical-align: middle;\n",
       "    }\n",
       "\n",
       "    .dataframe tbody tr th {\n",
       "        vertical-align: top;\n",
       "    }\n",
       "\n",
       "    .dataframe thead th {\n",
       "        text-align: right;\n",
       "    }\n",
       "</style>\n",
       "<table border=\"1\" class=\"dataframe\">\n",
       "  <thead>\n",
       "    <tr style=\"text-align: right;\">\n",
       "      <th></th>\n",
       "      <th>DateTime</th>\n",
       "    </tr>\n",
       "  </thead>\n",
       "  <tbody>\n",
       "    <tr>\n",
       "      <th>count</th>\n",
       "      <td>48120</td>\n",
       "    </tr>\n",
       "    <tr>\n",
       "      <th>unique</th>\n",
       "      <td>14592</td>\n",
       "    </tr>\n",
       "    <tr>\n",
       "      <th>top</th>\n",
       "      <td>2017-06-30 23:00:00</td>\n",
       "    </tr>\n",
       "    <tr>\n",
       "      <th>freq</th>\n",
       "      <td>4</td>\n",
       "    </tr>\n",
       "  </tbody>\n",
       "</table>\n",
       "</div>"
      ],
      "text/plain": [
       "                   DateTime\n",
       "count                 48120\n",
       "unique                14592\n",
       "top     2017-06-30 23:00:00\n",
       "freq                      4"
      ]
     },
     "metadata": {},
     "output_type": "display_data"
    }
   ],
   "source": [
    "def display_data_description(data, numeric_data_types, categorical_data_types):\n",
    "    print(\"Data Description :\")\n",
    "    display(data.describe( include = numeric_data_types))\n",
    "    display(data.describe( include = categorical_data_types))\n",
    "\n",
    "display_data_description(train, data_types[0:4], data_types[4:7])"
   ]
  },
  {
   "cell_type": "code",
   "execution_count": 56,
   "metadata": {
    "execution": {
     "iopub.execute_input": "2020-09-09T08:09:37.659184Z",
     "iopub.status.busy": "2020-09-09T08:09:37.657878Z",
     "iopub.status.idle": "2020-09-09T08:09:37.689617Z",
     "shell.execute_reply": "2020-09-09T08:09:37.688964Z"
    },
    "papermill": {
     "duration": 0.057551,
     "end_time": "2020-09-09T08:09:37.689745",
     "exception": false,
     "start_time": "2020-09-09T08:09:37.632194",
     "status": "completed"
    },
    "tags": []
   },
   "outputs": [
    {
     "name": "stdout",
     "output_type": "stream",
     "text": [
      "Data Description :\n"
     ]
    },
    {
     "data": {
      "text/html": [
       "<div>\n",
       "<style scoped>\n",
       "    .dataframe tbody tr th:only-of-type {\n",
       "        vertical-align: middle;\n",
       "    }\n",
       "\n",
       "    .dataframe tbody tr th {\n",
       "        vertical-align: top;\n",
       "    }\n",
       "\n",
       "    .dataframe thead th {\n",
       "        text-align: right;\n",
       "    }\n",
       "</style>\n",
       "<table border=\"1\" class=\"dataframe\">\n",
       "  <thead>\n",
       "    <tr style=\"text-align: right;\">\n",
       "      <th></th>\n",
       "      <th>Junction</th>\n",
       "      <th>ID</th>\n",
       "    </tr>\n",
       "  </thead>\n",
       "  <tbody>\n",
       "    <tr>\n",
       "      <th>count</th>\n",
       "      <td>11808.000000</td>\n",
       "      <td>1.180800e+04</td>\n",
       "    </tr>\n",
       "    <tr>\n",
       "      <th>mean</th>\n",
       "      <td>2.500000</td>\n",
       "      <td>2.017087e+10</td>\n",
       "    </tr>\n",
       "    <tr>\n",
       "      <th>std</th>\n",
       "      <td>1.118081</td>\n",
       "      <td>1.124665e+05</td>\n",
       "    </tr>\n",
       "    <tr>\n",
       "      <th>min</th>\n",
       "      <td>1.000000</td>\n",
       "      <td>2.017070e+10</td>\n",
       "    </tr>\n",
       "    <tr>\n",
       "      <th>25%</th>\n",
       "      <td>1.750000</td>\n",
       "      <td>2.017073e+10</td>\n",
       "    </tr>\n",
       "    <tr>\n",
       "      <th>50%</th>\n",
       "      <td>2.500000</td>\n",
       "      <td>2.017083e+10</td>\n",
       "    </tr>\n",
       "    <tr>\n",
       "      <th>75%</th>\n",
       "      <td>3.250000</td>\n",
       "      <td>2.017100e+10</td>\n",
       "    </tr>\n",
       "    <tr>\n",
       "      <th>max</th>\n",
       "      <td>4.000000</td>\n",
       "      <td>2.017103e+10</td>\n",
       "    </tr>\n",
       "  </tbody>\n",
       "</table>\n",
       "</div>"
      ],
      "text/plain": [
       "           Junction            ID\n",
       "count  11808.000000  1.180800e+04\n",
       "mean       2.500000  2.017087e+10\n",
       "std        1.118081  1.124665e+05\n",
       "min        1.000000  2.017070e+10\n",
       "25%        1.750000  2.017073e+10\n",
       "50%        2.500000  2.017083e+10\n",
       "75%        3.250000  2.017100e+10\n",
       "max        4.000000  2.017103e+10"
      ]
     },
     "metadata": {},
     "output_type": "display_data"
    },
    {
     "data": {
      "text/html": [
       "<div>\n",
       "<style scoped>\n",
       "    .dataframe tbody tr th:only-of-type {\n",
       "        vertical-align: middle;\n",
       "    }\n",
       "\n",
       "    .dataframe tbody tr th {\n",
       "        vertical-align: top;\n",
       "    }\n",
       "\n",
       "    .dataframe thead th {\n",
       "        text-align: right;\n",
       "    }\n",
       "</style>\n",
       "<table border=\"1\" class=\"dataframe\">\n",
       "  <thead>\n",
       "    <tr style=\"text-align: right;\">\n",
       "      <th></th>\n",
       "      <th>DateTime</th>\n",
       "    </tr>\n",
       "  </thead>\n",
       "  <tbody>\n",
       "    <tr>\n",
       "      <th>count</th>\n",
       "      <td>11808</td>\n",
       "    </tr>\n",
       "    <tr>\n",
       "      <th>unique</th>\n",
       "      <td>2952</td>\n",
       "    </tr>\n",
       "    <tr>\n",
       "      <th>top</th>\n",
       "      <td>2017-07-01 00:00:00</td>\n",
       "    </tr>\n",
       "    <tr>\n",
       "      <th>freq</th>\n",
       "      <td>4</td>\n",
       "    </tr>\n",
       "  </tbody>\n",
       "</table>\n",
       "</div>"
      ],
      "text/plain": [
       "                   DateTime\n",
       "count                 11808\n",
       "unique                 2952\n",
       "top     2017-07-01 00:00:00\n",
       "freq                      4"
      ]
     },
     "metadata": {},
     "output_type": "display_data"
    }
   ],
   "source": [
    "display_data_description(test, data_types[0:4], data_types[4:7])"
   ]
  },
  {
   "cell_type": "code",
   "execution_count": 57,
   "metadata": {
    "execution": {
     "iopub.execute_input": "2020-09-09T08:09:37.738888Z",
     "iopub.status.busy": "2020-09-09T08:09:37.737863Z",
     "iopub.status.idle": "2020-09-09T08:09:37.748305Z",
     "shell.execute_reply": "2020-09-09T08:09:37.748867Z"
    },
    "papermill": {
     "duration": 0.039725,
     "end_time": "2020-09-09T08:09:37.749043",
     "exception": false,
     "start_time": "2020-09-09T08:09:37.709318",
     "status": "completed"
    },
    "tags": []
   },
   "outputs": [
    {
     "data": {
      "text/plain": [
       "0.0"
      ]
     },
     "execution_count": 57,
     "metadata": {},
     "output_type": "execute_result"
    }
   ],
   "source": [
    "np.intersect1d(train['ID'], test['ID']).shape[0]/train['ID'].nunique()"
   ]
  },
  {
   "cell_type": "code",
   "execution_count": 58,
   "metadata": {
    "execution": {
     "iopub.execute_input": "2020-09-09T08:09:37.792182Z",
     "iopub.status.busy": "2020-09-09T08:09:37.791127Z",
     "iopub.status.idle": "2020-09-09T08:09:37.803829Z",
     "shell.execute_reply": "2020-09-09T08:09:37.802749Z"
    },
    "papermill": {
     "duration": 0.035435,
     "end_time": "2020-09-09T08:09:37.803988",
     "exception": false,
     "start_time": "2020-09-09T08:09:37.768553",
     "status": "completed"
    },
    "tags": []
   },
   "outputs": [],
   "source": [
    "train.drop([\"ID\"],axis = 1,inplace=True)\n",
    "\n",
    "test_ID = test[\"ID\"]\n",
    "test.drop([\"ID\"],axis = 1,inplace=True)"
   ]
  },
  {
   "cell_type": "code",
   "execution_count": 59,
   "metadata": {
    "execution": {
     "iopub.execute_input": "2020-09-09T08:09:37.892413Z",
     "iopub.status.busy": "2020-09-09T08:09:37.891770Z",
     "iopub.status.idle": "2020-09-09T08:09:37.904264Z",
     "shell.execute_reply": "2020-09-09T08:09:37.904737Z"
    },
    "papermill": {
     "duration": 0.040725,
     "end_time": "2020-09-09T08:09:37.904911",
     "exception": false,
     "start_time": "2020-09-09T08:09:37.864186",
     "status": "completed"
    },
    "tags": []
   },
   "outputs": [
    {
     "name": "stdout",
     "output_type": "stream",
     "text": [
      "BEFORE REMOVING DUPLICATES - No. of Rows =  48120\n",
      "AFTER REMOVING DUPLICATES  - No. of Rows =  48120\n"
     ]
    }
   ],
   "source": [
    "def remove_duplicate(data):\n",
    "    \n",
    "    print(\"BEFORE REMOVING DUPLICATES - No. of Rows = \",data.shape[0])\n",
    "    data.drop_duplicates(keep=\"first\", inplace=True) \n",
    "    print(\"AFTER REMOVING DUPLICATES  - No. of Rows = \",data.shape[0])\n",
    "    \n",
    "    return data\n",
    "\n",
    "train = remove_duplicate(train)"
   ]
  },
  {
   "cell_type": "code",
   "execution_count": 60,
   "metadata": {
    "execution": {
     "iopub.execute_input": "2020-09-09T08:09:37.999689Z",
     "iopub.status.busy": "2020-09-09T08:09:37.998414Z",
     "iopub.status.idle": "2020-09-09T08:09:38.019492Z",
     "shell.execute_reply": "2020-09-09T08:09:38.018875Z"
    },
    "papermill": {
     "duration": 0.054867,
     "end_time": "2020-09-09T08:09:38.019617",
     "exception": false,
     "start_time": "2020-09-09T08:09:37.964750",
     "status": "completed"
    },
    "tags": []
   },
   "outputs": [
    {
     "name": "stdout",
     "output_type": "stream",
     "text": [
      "Missing Values BEFORE REMOVAL in  train  data\n"
     ]
    },
    {
     "data": {
      "text/plain": [
       "0"
      ]
     },
     "metadata": {},
     "output_type": "display_data"
    },
    {
     "name": "stdout",
     "output_type": "stream",
     "text": [
      "Missing Values BEFORE REMOVAL in  test  data\n"
     ]
    },
    {
     "data": {
      "text/plain": [
       "0"
      ]
     },
     "metadata": {},
     "output_type": "display_data"
    }
   ],
   "source": [
    "def fill_missing_values(data, fill_value, fill_types, columns, dataframe_name):\n",
    "    \n",
    "    print(\"Missing Values BEFORE REMOVAL in \",dataframe_name,\" data\")\n",
    "    display((data.isnull().sum()).sum())\n",
    "    \n",
    "    if (data.isnull().sum()).sum() != 0 :\n",
    "    \n",
    "        for column in columns :\n",
    "\n",
    "            if \"Value_Fill\" in fill_types :\n",
    "                data[ column ] = data[ column ].fillna(fill_value)\n",
    "\n",
    "            if \"Forward_Fill\" in fill_types :\n",
    "                data[ column ] = data[ column ].ffill(axis = 0)\n",
    "\n",
    "            if \"Backward_Fill\" in fill_types :\n",
    "                data[ column ] = data[ column ].bfill(axis = 0)\n",
    "\n",
    "        print(\"Missing Values AFTER REMOVAL in \",dataframe_name,\" data\")\n",
    "        display(data.isnull().sum())\n",
    "    \n",
    "    return data\n",
    "\n",
    "fill_types = [ \"Forward_Fill\"]\n",
    "fill_value = 0\n",
    "\n",
    "train = fill_missing_values(train, fill_value, fill_types, train.columns,\"train\")\n",
    "\n",
    "test  = fill_missing_values(test, fill_value, fill_types,train.columns,\"test\")"
   ]
  },
  {
   "cell_type": "code",
   "execution_count": 61,
   "metadata": {
    "execution": {
     "iopub.execute_input": "2020-09-09T08:09:38.071249Z",
     "iopub.status.busy": "2020-09-09T08:09:38.070654Z",
     "iopub.status.idle": "2020-09-09T08:09:38.155219Z",
     "shell.execute_reply": "2020-09-09T08:09:38.154635Z"
    },
    "papermill": {
     "duration": 0.114278,
     "end_time": "2020-09-09T08:09:38.155341",
     "exception": false,
     "start_time": "2020-09-09T08:09:38.041063",
     "status": "completed"
    },
    "tags": []
   },
   "outputs": [
    {
     "name": "stdout",
     "output_type": "stream",
     "text": [
      "No of Unique Values in DateTime Column are : 14592\n",
      "Actual Unique Values in DateTime Column are : ['2015-11-01 00:00:00' '2015-11-01 01:00:00' '2015-11-01 02:00:00' ...\n",
      " '2017-06-30 21:00:00' '2017-06-30 22:00:00' '2017-06-30 23:00:00']\n",
      "NULL Values :\n",
      "0\n",
      "Value Counts :\n",
      "2017-06-30 23:00:00    4\n",
      "2017-03-02 02:00:00    4\n",
      "2017-03-02 16:00:00    4\n",
      "2017-03-02 15:00:00    4\n",
      "2017-03-02 14:00:00    4\n",
      "                      ..\n",
      "2016-05-21 19:00:00    3\n",
      "2016-05-21 20:00:00    3\n",
      "2016-05-21 21:00:00    3\n",
      "2016-05-21 22:00:00    3\n",
      "2016-08-31 00:00:00    3\n",
      "Name: DateTime, Length: 14592, dtype: int64\n",
      "\n",
      "No of Unique Values in Junction Column are : 4\n",
      "Actual Unique Values in Junction Column are : [1 2 3 4]\n",
      "NULL Values :\n",
      "0\n",
      "Value Counts :\n",
      "1    14592\n",
      "2    14592\n",
      "3    14592\n",
      "4     4344\n",
      "Name: Junction, dtype: int64\n",
      "\n",
      "No of Unique Values in Vehicles Column are : 141\n",
      "Actual Unique Values in Vehicles Column are : [  1   2   3   4   5   6   7   8   9  10  11  12  13  14  15  16  17  18\n",
      "  19  20  21  22  23  24  25  26  27  28  29  30  31  32  33  34  35  36\n",
      "  37  38  39  40  41  42  43  44  45  46  47  48  49  50  51  52  53  54\n",
      "  55  56  57  58  59  60  61  62  63  64  65  66  67  68  69  70  71  72\n",
      "  73  74  75  76  77  78  79  80  81  82  83  84  85  86  87  88  89  90\n",
      "  91  92  93  94  95  96  97  98  99 100 101 102 103 104 105 106 107 108\n",
      " 109 110 111 112 113 114 115 116 117 118 119 120 121 122 123 124 125 126\n",
      " 127 128 129 132 133 134 135 136 140 141 143 156 162 173 180]\n",
      "NULL Values :\n",
      "0\n",
      "Value Counts :\n",
      "8      2325\n",
      "9      2290\n",
      "7      2220\n",
      "6      2206\n",
      "10     2145\n",
      "       ... \n",
      "129       1\n",
      "141       1\n",
      "135       1\n",
      "143       1\n",
      "162       1\n",
      "Name: Vehicles, Length: 141, dtype: int64\n",
      "\n"
     ]
    }
   ],
   "source": [
    "def display_unique(data):\n",
    "    for column in data.columns :\n",
    "        \n",
    "        print(\"No of Unique Values in \"+column+\" Column are : \"+str(data[column].nunique()))\n",
    "        print(\"Actual Unique Values in \"+column+\" Column are : \"+str(data[column].sort_values(ascending=True,na_position='last').unique() ))\n",
    "        print(\"NULL Values :\")\n",
    "        print(data[ column ].isnull().sum())\n",
    "        print(\"Value Counts :\")\n",
    "        print(data[column].value_counts())\n",
    "        print(\"\")\n",
    "        \n",
    "\n",
    "display_unique(train)"
   ]
  },
  {
   "cell_type": "code",
   "execution_count": 62,
   "metadata": {
    "execution": {
     "iopub.execute_input": "2020-09-09T08:09:38.202942Z",
     "iopub.status.busy": "2020-09-09T08:09:38.202294Z",
     "iopub.status.idle": "2020-09-09T08:09:38.235783Z",
     "shell.execute_reply": "2020-09-09T08:09:38.235246Z"
    },
    "papermill": {
     "duration": 0.059108,
     "end_time": "2020-09-09T08:09:38.235896",
     "exception": false,
     "start_time": "2020-09-09T08:09:38.176788",
     "status": "completed"
    },
    "tags": []
   },
   "outputs": [
    {
     "name": "stdout",
     "output_type": "stream",
     "text": [
      "No of Unique Values in DateTime Column are : 2952\n",
      "Actual Unique Values in DateTime Column are : ['2017-07-01 00:00:00' '2017-07-01 01:00:00' '2017-07-01 02:00:00' ...\n",
      " '2017-10-31 21:00:00' '2017-10-31 22:00:00' '2017-10-31 23:00:00']\n",
      "NULL Values :\n",
      "0\n",
      "Value Counts :\n",
      "2017-07-01 00:00:00    4\n",
      "2017-09-21 03:00:00    4\n",
      "2017-09-20 18:00:00    4\n",
      "2017-09-20 19:00:00    4\n",
      "2017-09-20 20:00:00    4\n",
      "                      ..\n",
      "2017-08-11 02:00:00    4\n",
      "2017-08-11 03:00:00    4\n",
      "2017-08-11 04:00:00    4\n",
      "2017-08-11 05:00:00    4\n",
      "2017-10-31 23:00:00    4\n",
      "Name: DateTime, Length: 2952, dtype: int64\n",
      "\n",
      "No of Unique Values in Junction Column are : 4\n",
      "Actual Unique Values in Junction Column are : [1 2 3 4]\n",
      "NULL Values :\n",
      "0\n",
      "Value Counts :\n",
      "1    2952\n",
      "2    2952\n",
      "3    2952\n",
      "4    2952\n",
      "Name: Junction, dtype: int64\n",
      "\n"
     ]
    }
   ],
   "source": [
    "display_unique(test)"
   ]
  },
  {
   "cell_type": "code",
   "execution_count": 63,
   "metadata": {
    "execution": {
     "iopub.execute_input": "2020-09-09T08:09:38.332769Z",
     "iopub.status.busy": "2020-09-09T08:09:38.332093Z",
     "iopub.status.idle": "2020-09-09T08:09:38.337213Z",
     "shell.execute_reply": "2020-09-09T08:09:38.336284Z"
    },
    "papermill": {
     "duration": 0.03545,
     "end_time": "2020-09-09T08:09:38.337851",
     "exception": false,
     "start_time": "2020-09-09T08:09:38.302401",
     "status": "completed"
    },
    "tags": []
   },
   "outputs": [],
   "source": [
    "def datetounix(df):\n",
    "    unixtime = []\n",
    "    \n",
    "    for date in df['DateTime']:\n",
    "        unixtime.append(time.mktime(date.timetuple()))\n",
    "    \n",
    "    df['DateTime'] = unixtime\n",
    "    return(df)"
   ]
  },
  {
   "cell_type": "code",
   "execution_count": 64,
   "metadata": {
    "execution": {
     "iopub.execute_input": "2020-09-09T08:09:38.391540Z",
     "iopub.status.busy": "2020-09-09T08:09:38.390858Z",
     "iopub.status.idle": "2020-09-09T08:09:38.419679Z",
     "shell.execute_reply": "2020-09-09T08:09:38.419096Z"
    },
    "papermill": {
     "duration": 0.055572,
     "end_time": "2020-09-09T08:09:38.419810",
     "exception": false,
     "start_time": "2020-09-09T08:09:38.364238",
     "status": "completed"
    },
    "tags": []
   },
   "outputs": [
    {
     "name": "stdout",
     "output_type": "stream",
     "text": [
      "<class 'pandas.core.frame.DataFrame'>\n",
      "RangeIndex: 11808 entries, 0 to 11807\n",
      "Data columns (total 2 columns):\n",
      " #   Column    Non-Null Count  Dtype         \n",
      "---  ------    --------------  -----         \n",
      " 0   DateTime  11808 non-null  datetime64[ns]\n",
      " 1   Junction  11808 non-null  int64         \n",
      "dtypes: datetime64[ns](1), int64(1)\n",
      "memory usage: 184.6 KB\n"
     ]
    }
   ],
   "source": [
    "train['DateTime'] = pd.to_datetime(train['DateTime'])\n",
    "test['DateTime'] = pd.to_datetime(test['DateTime'])\n",
    "test.info()"
   ]
  },
  {
   "cell_type": "code",
   "execution_count": 65,
   "metadata": {
    "execution": {
     "iopub.execute_input": "2020-09-09T08:09:38.545988Z",
     "iopub.status.busy": "2020-09-09T08:09:38.521977Z",
     "iopub.status.idle": "2020-09-09T08:09:39.623461Z",
     "shell.execute_reply": "2020-09-09T08:09:39.622720Z"
    },
    "papermill": {
     "duration": 1.182144,
     "end_time": "2020-09-09T08:09:39.623602",
     "exception": false,
     "start_time": "2020-09-09T08:09:38.441458",
     "status": "completed"
    },
    "tags": []
   },
   "outputs": [],
   "source": [
    "train['Weekday'] = [datetime.weekday(date) for date in train.DateTime]\n",
    "train['Year'] = [date.year for date in train.DateTime]\n",
    "train['Month'] = [date.month for date in train.DateTime]\n",
    "train['Day'] = [date.day for date in train.DateTime]\n",
    "train['Time'] = [((date.hour*60+(date.minute))*60)+date.second for date in train.DateTime]\n",
    "train['Week'] = [date.week for date in train.DateTime]\n",
    "train['Quarter'] = [date.quarter for date in train.DateTime]\n",
    "\n",
    "test['Weekday'] = [datetime.weekday(date) for date in test.DateTime]\n",
    "test['Year'] = [date.year for date in test.DateTime]\n",
    "test['Month'] = [date.month for date in test.DateTime]\n",
    "test['Day'] = [date.day for date in test.DateTime]\n",
    "test['Time'] = [((date.hour*60+(date.minute))*60)+date.second for date in test.DateTime]\n",
    "test['Week'] = [date.week for date in test.DateTime]\n",
    "test['Quarter'] = [date.quarter for date in test.DateTime]"
   ]
  },
  {
   "cell_type": "code",
   "execution_count": 66,
   "metadata": {
    "execution": {
     "iopub.execute_input": "2020-09-09T08:09:39.838759Z",
     "iopub.status.busy": "2020-09-09T08:09:39.837220Z",
     "iopub.status.idle": "2020-09-09T08:09:40.358353Z",
     "shell.execute_reply": "2020-09-09T08:09:40.357757Z"
    },
    "papermill": {
     "duration": 0.709454,
     "end_time": "2020-09-09T08:09:40.358512",
     "exception": false,
     "start_time": "2020-09-09T08:09:39.649058",
     "status": "completed"
    },
    "tags": []
   },
   "outputs": [
    {
     "data": {
      "image/png": "[encoded data removed]",
      "text/plain": [
       "<Figure size 432x288 with 1 Axes>"
      ]
     },
     "metadata": {
      "needs_background": "light"
     },
     "output_type": "display_data"
    }
   ],
   "source": [
    "data = train.Vehicles\n",
    "binwidth = 1\n",
    "plt.hist(data, bins=range(min(data), max(data) + binwidth, binwidth), log=False)\n",
    "plt.title(\"Gaussian Histogram\")\n",
    "plt.xlabel(\"Traffic\")\n",
    "plt.ylabel(\"Number of times\")\n",
    "plt.show()"
   ]
  },
  {
   "cell_type": "code",
   "execution_count": 67,
   "metadata": {
    "execution": {
     "iopub.execute_input": "2020-09-09T08:09:40.590954Z",
     "iopub.status.busy": "2020-09-09T08:09:40.590283Z",
     "iopub.status.idle": "2020-09-09T08:09:41.289733Z",
     "shell.execute_reply": "2020-09-09T08:09:41.288936Z"
    },
    "papermill": {
     "duration": 0.871316,
     "end_time": "2020-09-09T08:09:41.289881",
     "exception": false,
     "start_time": "2020-09-09T08:09:40.418565",
     "status": "completed"
    },
    "tags": []
   },
   "outputs": [
    {
     "name": "stdout",
     "output_type": "stream",
     "text": [
      "X.shape :  (48120, 45)\n"
     ]
    },
    {
     "data": {
      "text/plain": [
       "'Data Head & Tail :'"
      ]
     },
     "metadata": {},
     "output_type": "display_data"
    },
    {
     "data": {
      "text/html": [
       "<div>\n",
       "<style scoped>\n",
       "    .dataframe tbody tr th:only-of-type {\n",
       "        vertical-align: middle;\n",
       "    }\n",
       "\n",
       "    .dataframe tbody tr th {\n",
       "        vertical-align: top;\n",
       "    }\n",
       "\n",
       "    .dataframe thead th {\n",
       "        text-align: right;\n",
       "    }\n",
       "</style>\n",
       "<table border=\"1\" class=\"dataframe\">\n",
       "  <thead>\n",
       "    <tr style=\"text-align: right;\">\n",
       "      <th></th>\n",
       "      <th>DateTime</th>\n",
       "      <th>Time</th>\n",
       "      <th>Week</th>\n",
       "      <th>Junction_1</th>\n",
       "      <th>Junction_2</th>\n",
       "      <th>Junction_3</th>\n",
       "      <th>Junction_4</th>\n",
       "      <th>Weekday_0</th>\n",
       "      <th>Weekday_1</th>\n",
       "      <th>Weekday_2</th>\n",
       "      <th>...</th>\n",
       "      <th>Day_29</th>\n",
       "      <th>Day_3</th>\n",
       "      <th>Day_30</th>\n",
       "      <th>Day_31</th>\n",
       "      <th>Day_4</th>\n",
       "      <th>Day_5</th>\n",
       "      <th>Day_6</th>\n",
       "      <th>Day_7</th>\n",
       "      <th>Day_8</th>\n",
       "      <th>Day_9</th>\n",
       "    </tr>\n",
       "  </thead>\n",
       "  <tbody>\n",
       "    <tr>\n",
       "      <th>0</th>\n",
       "      <td>1.446316e+09</td>\n",
       "      <td>0</td>\n",
       "      <td>44</td>\n",
       "      <td>1</td>\n",
       "      <td>0</td>\n",
       "      <td>0</td>\n",
       "      <td>0</td>\n",
       "      <td>0</td>\n",
       "      <td>0</td>\n",
       "      <td>0</td>\n",
       "      <td>...</td>\n",
       "      <td>0</td>\n",
       "      <td>0</td>\n",
       "      <td>0</td>\n",
       "      <td>0</td>\n",
       "      <td>0</td>\n",
       "      <td>0</td>\n",
       "      <td>0</td>\n",
       "      <td>0</td>\n",
       "      <td>0</td>\n",
       "      <td>0</td>\n",
       "    </tr>\n",
       "    <tr>\n",
       "      <th>1</th>\n",
       "      <td>1.446320e+09</td>\n",
       "      <td>3600</td>\n",
       "      <td>44</td>\n",
       "      <td>1</td>\n",
       "      <td>0</td>\n",
       "      <td>0</td>\n",
       "      <td>0</td>\n",
       "      <td>0</td>\n",
       "      <td>0</td>\n",
       "      <td>0</td>\n",
       "      <td>...</td>\n",
       "      <td>0</td>\n",
       "      <td>0</td>\n",
       "      <td>0</td>\n",
       "      <td>0</td>\n",
       "      <td>0</td>\n",
       "      <td>0</td>\n",
       "      <td>0</td>\n",
       "      <td>0</td>\n",
       "      <td>0</td>\n",
       "      <td>0</td>\n",
       "    </tr>\n",
       "    <tr>\n",
       "      <th>2</th>\n",
       "      <td>1.446323e+09</td>\n",
       "      <td>7200</td>\n",
       "      <td>44</td>\n",
       "      <td>1</td>\n",
       "      <td>0</td>\n",
       "      <td>0</td>\n",
       "      <td>0</td>\n",
       "      <td>0</td>\n",
       "      <td>0</td>\n",
       "      <td>0</td>\n",
       "      <td>...</td>\n",
       "      <td>0</td>\n",
       "      <td>0</td>\n",
       "      <td>0</td>\n",
       "      <td>0</td>\n",
       "      <td>0</td>\n",
       "      <td>0</td>\n",
       "      <td>0</td>\n",
       "      <td>0</td>\n",
       "      <td>0</td>\n",
       "      <td>0</td>\n",
       "    </tr>\n",
       "    <tr>\n",
       "      <th>48118</th>\n",
       "      <td>1.498840e+09</td>\n",
       "      <td>79200</td>\n",
       "      <td>26</td>\n",
       "      <td>0</td>\n",
       "      <td>0</td>\n",
       "      <td>0</td>\n",
       "      <td>1</td>\n",
       "      <td>0</td>\n",
       "      <td>0</td>\n",
       "      <td>0</td>\n",
       "      <td>...</td>\n",
       "      <td>0</td>\n",
       "      <td>0</td>\n",
       "      <td>1</td>\n",
       "      <td>0</td>\n",
       "      <td>0</td>\n",
       "      <td>0</td>\n",
       "      <td>0</td>\n",
       "      <td>0</td>\n",
       "      <td>0</td>\n",
       "      <td>0</td>\n",
       "    </tr>\n",
       "    <tr>\n",
       "      <th>48119</th>\n",
       "      <td>1.498844e+09</td>\n",
       "      <td>82800</td>\n",
       "      <td>26</td>\n",
       "      <td>0</td>\n",
       "      <td>0</td>\n",
       "      <td>0</td>\n",
       "      <td>1</td>\n",
       "      <td>0</td>\n",
       "      <td>0</td>\n",
       "      <td>0</td>\n",
       "      <td>...</td>\n",
       "      <td>0</td>\n",
       "      <td>0</td>\n",
       "      <td>1</td>\n",
       "      <td>0</td>\n",
       "      <td>0</td>\n",
       "      <td>0</td>\n",
       "      <td>0</td>\n",
       "      <td>0</td>\n",
       "      <td>0</td>\n",
       "      <td>0</td>\n",
       "    </tr>\n",
       "  </tbody>\n",
       "</table>\n",
       "<p>5 rows × 45 columns</p>\n",
       "</div>"
      ],
      "text/plain": [
       "           DateTime   Time  Week  Junction_1  Junction_2  Junction_3  \\\n",
       "0      1.446316e+09      0    44           1           0           0   \n",
       "1      1.446320e+09   3600    44           1           0           0   \n",
       "2      1.446323e+09   7200    44           1           0           0   \n",
       "48118  1.498840e+09  79200    26           0           0           0   \n",
       "48119  1.498844e+09  82800    26           0           0           0   \n",
       "\n",
       "       Junction_4  Weekday_0  Weekday_1  Weekday_2  ...  Day_29  Day_3  \\\n",
       "0               0          0          0          0  ...       0      0   \n",
       "1               0          0          0          0  ...       0      0   \n",
       "2               0          0          0          0  ...       0      0   \n",
       "48118           1          0          0          0  ...       0      0   \n",
       "48119           1          0          0          0  ...       0      0   \n",
       "\n",
       "       Day_30  Day_31  Day_4  Day_5  Day_6  Day_7  Day_8  Day_9  \n",
       "0           0       0      0      0      0      0      0      0  \n",
       "1           0       0      0      0      0      0      0      0  \n",
       "2           0       0      0      0      0      0      0      0  \n",
       "48118       1       0      0      0      0      0      0      0  \n",
       "48119       1       0      0      0      0      0      0      0  \n",
       "\n",
       "[5 rows x 45 columns]"
      ]
     },
     "metadata": {},
     "output_type": "display_data"
    },
    {
     "data": {
      "text/plain": [
       "Index(['DateTime', 'Time', 'Week', 'Junction_1', 'Junction_2', 'Junction_3',\n",
       "       'Junction_4', 'Weekday_0', 'Weekday_1', 'Weekday_2', 'Weekday_3',\n",
       "       'Weekday_4', 'Weekday_5', 'Weekday_6', 'Day_1', 'Day_10', 'Day_11',\n",
       "       'Day_12', 'Day_13', 'Day_14', 'Day_15', 'Day_16', 'Day_17', 'Day_18',\n",
       "       'Day_19', 'Day_2', 'Day_20', 'Day_21', 'Day_22', 'Day_23', 'Day_24',\n",
       "       'Day_25', 'Day_26', 'Day_27', 'Day_28', 'Day_29', 'Day_3', 'Day_30',\n",
       "       'Day_31', 'Day_4', 'Day_5', 'Day_6', 'Day_7', 'Day_8', 'Day_9'],\n",
       "      dtype='object')"
      ]
     },
     "metadata": {},
     "output_type": "display_data"
    },
    {
     "name": "stdout",
     "output_type": "stream",
     "text": [
      "X_test.shape :  (11808, 45)\n"
     ]
    },
    {
     "data": {
      "text/plain": [
       "'Data Head & Tail :'"
      ]
     },
     "metadata": {},
     "output_type": "display_data"
    },
    {
     "data": {
      "text/html": [
       "<div>\n",
       "<style scoped>\n",
       "    .dataframe tbody tr th:only-of-type {\n",
       "        vertical-align: middle;\n",
       "    }\n",
       "\n",
       "    .dataframe tbody tr th {\n",
       "        vertical-align: top;\n",
       "    }\n",
       "\n",
       "    .dataframe thead th {\n",
       "        text-align: right;\n",
       "    }\n",
       "</style>\n",
       "<table border=\"1\" class=\"dataframe\">\n",
       "  <thead>\n",
       "    <tr style=\"text-align: right;\">\n",
       "      <th></th>\n",
       "      <th>DateTime</th>\n",
       "      <th>Time</th>\n",
       "      <th>Week</th>\n",
       "      <th>Junction_1</th>\n",
       "      <th>Junction_2</th>\n",
       "      <th>Junction_3</th>\n",
       "      <th>Junction_4</th>\n",
       "      <th>Weekday_0</th>\n",
       "      <th>Weekday_1</th>\n",
       "      <th>Weekday_2</th>\n",
       "      <th>...</th>\n",
       "      <th>Day_29</th>\n",
       "      <th>Day_3</th>\n",
       "      <th>Day_30</th>\n",
       "      <th>Day_31</th>\n",
       "      <th>Day_4</th>\n",
       "      <th>Day_5</th>\n",
       "      <th>Day_6</th>\n",
       "      <th>Day_7</th>\n",
       "      <th>Day_8</th>\n",
       "      <th>Day_9</th>\n",
       "    </tr>\n",
       "  </thead>\n",
       "  <tbody>\n",
       "    <tr>\n",
       "      <th>0</th>\n",
       "      <td>1.498847e+09</td>\n",
       "      <td>0</td>\n",
       "      <td>26</td>\n",
       "      <td>1</td>\n",
       "      <td>0</td>\n",
       "      <td>0</td>\n",
       "      <td>0</td>\n",
       "      <td>0</td>\n",
       "      <td>0</td>\n",
       "      <td>0</td>\n",
       "      <td>...</td>\n",
       "      <td>0</td>\n",
       "      <td>0</td>\n",
       "      <td>0</td>\n",
       "      <td>0</td>\n",
       "      <td>0</td>\n",
       "      <td>0</td>\n",
       "      <td>0</td>\n",
       "      <td>0</td>\n",
       "      <td>0</td>\n",
       "      <td>0</td>\n",
       "    </tr>\n",
       "    <tr>\n",
       "      <th>1</th>\n",
       "      <td>1.498851e+09</td>\n",
       "      <td>3600</td>\n",
       "      <td>26</td>\n",
       "      <td>1</td>\n",
       "      <td>0</td>\n",
       "      <td>0</td>\n",
       "      <td>0</td>\n",
       "      <td>0</td>\n",
       "      <td>0</td>\n",
       "      <td>0</td>\n",
       "      <td>...</td>\n",
       "      <td>0</td>\n",
       "      <td>0</td>\n",
       "      <td>0</td>\n",
       "      <td>0</td>\n",
       "      <td>0</td>\n",
       "      <td>0</td>\n",
       "      <td>0</td>\n",
       "      <td>0</td>\n",
       "      <td>0</td>\n",
       "      <td>0</td>\n",
       "    </tr>\n",
       "    <tr>\n",
       "      <th>2</th>\n",
       "      <td>1.498855e+09</td>\n",
       "      <td>7200</td>\n",
       "      <td>26</td>\n",
       "      <td>1</td>\n",
       "      <td>0</td>\n",
       "      <td>0</td>\n",
       "      <td>0</td>\n",
       "      <td>0</td>\n",
       "      <td>0</td>\n",
       "      <td>0</td>\n",
       "      <td>...</td>\n",
       "      <td>0</td>\n",
       "      <td>0</td>\n",
       "      <td>0</td>\n",
       "      <td>0</td>\n",
       "      <td>0</td>\n",
       "      <td>0</td>\n",
       "      <td>0</td>\n",
       "      <td>0</td>\n",
       "      <td>0</td>\n",
       "      <td>0</td>\n",
       "    </tr>\n",
       "    <tr>\n",
       "      <th>11806</th>\n",
       "      <td>1.509467e+09</td>\n",
       "      <td>79200</td>\n",
       "      <td>44</td>\n",
       "      <td>0</td>\n",
       "      <td>0</td>\n",
       "      <td>0</td>\n",
       "      <td>1</td>\n",
       "      <td>0</td>\n",
       "      <td>1</td>\n",
       "      <td>0</td>\n",
       "      <td>...</td>\n",
       "      <td>0</td>\n",
       "      <td>0</td>\n",
       "      <td>0</td>\n",
       "      <td>1</td>\n",
       "      <td>0</td>\n",
       "      <td>0</td>\n",
       "      <td>0</td>\n",
       "      <td>0</td>\n",
       "      <td>0</td>\n",
       "      <td>0</td>\n",
       "    </tr>\n",
       "    <tr>\n",
       "      <th>11807</th>\n",
       "      <td>1.509471e+09</td>\n",
       "      <td>82800</td>\n",
       "      <td>44</td>\n",
       "      <td>0</td>\n",
       "      <td>0</td>\n",
       "      <td>0</td>\n",
       "      <td>1</td>\n",
       "      <td>0</td>\n",
       "      <td>1</td>\n",
       "      <td>0</td>\n",
       "      <td>...</td>\n",
       "      <td>0</td>\n",
       "      <td>0</td>\n",
       "      <td>0</td>\n",
       "      <td>1</td>\n",
       "      <td>0</td>\n",
       "      <td>0</td>\n",
       "      <td>0</td>\n",
       "      <td>0</td>\n",
       "      <td>0</td>\n",
       "      <td>0</td>\n",
       "    </tr>\n",
       "  </tbody>\n",
       "</table>\n",
       "<p>5 rows × 45 columns</p>\n",
       "</div>"
      ],
      "text/plain": [
       "           DateTime   Time  Week  Junction_1  Junction_2  Junction_3  \\\n",
       "0      1.498847e+09      0    26           1           0           0   \n",
       "1      1.498851e+09   3600    26           1           0           0   \n",
       "2      1.498855e+09   7200    26           1           0           0   \n",
       "11806  1.509467e+09  79200    44           0           0           0   \n",
       "11807  1.509471e+09  82800    44           0           0           0   \n",
       "\n",
       "       Junction_4  Weekday_0  Weekday_1  Weekday_2  ...  Day_29  Day_3  \\\n",
       "0               0          0          0          0  ...       0      0   \n",
       "1               0          0          0          0  ...       0      0   \n",
       "2               0          0          0          0  ...       0      0   \n",
       "11806           1          0          1          0  ...       0      0   \n",
       "11807           1          0          1          0  ...       0      0   \n",
       "\n",
       "       Day_30  Day_31  Day_4  Day_5  Day_6  Day_7  Day_8  Day_9  \n",
       "0           0       0      0      0      0      0      0      0  \n",
       "1           0       0      0      0      0      0      0      0  \n",
       "2           0       0      0      0      0      0      0      0  \n",
       "11806       0       1      0      0      0      0      0      0  \n",
       "11807       0       1      0      0      0      0      0      0  \n",
       "\n",
       "[5 rows x 45 columns]"
      ]
     },
     "metadata": {},
     "output_type": "display_data"
    },
    {
     "data": {
      "text/plain": [
       "Index(['DateTime', 'Time', 'Week', 'Junction_1', 'Junction_2', 'Junction_3',\n",
       "       'Junction_4', 'Weekday_0', 'Weekday_1', 'Weekday_2', 'Weekday_3',\n",
       "       'Weekday_4', 'Weekday_5', 'Weekday_6', 'Day_1', 'Day_10', 'Day_11',\n",
       "       'Day_12', 'Day_13', 'Day_14', 'Day_15', 'Day_16', 'Day_17', 'Day_18',\n",
       "       'Day_19', 'Day_2', 'Day_20', 'Day_21', 'Day_22', 'Day_23', 'Day_24',\n",
       "       'Day_25', 'Day_26', 'Day_27', 'Day_28', 'Day_29', 'Day_3', 'Day_30',\n",
       "       'Day_31', 'Day_4', 'Day_5', 'Day_6', 'Day_7', 'Day_8', 'Day_9'],\n",
       "      dtype='object')"
      ]
     },
     "metadata": {},
     "output_type": "display_data"
    }
   ],
   "source": [
    "train_features = datetounix(train.drop(['Vehicles','Year', 'Quarter', 'Month'], axis=1))\n",
    "test_features = datetounix(test.drop(['Year', 'Quarter', 'Month'], axis=1))\n",
    "\n",
    "X = train_features  \n",
    "X_test = test_features\n",
    "X[ 'Junction' ] = X[ 'Junction' ].astype('str')\n",
    "X[ 'Weekday' ] = X[ 'Weekday' ].astype('str')\n",
    "X[ 'Day' ] = X[ 'Day' ].astype('str')\n",
    "X_test[ 'Junction' ] = X_test[ 'Junction' ].astype('str')\n",
    "X_test[ 'Weekday' ] = X_test[ 'Weekday' ].astype('str')\n",
    "X_test[ 'Day' ] = X_test[ 'Day' ].astype('str')\n",
    "\n",
    "X = pd.get_dummies(X)\n",
    "X_test = pd.get_dummies(X_test)\n",
    "\n",
    "y = train['Vehicles'].to_frame()\n",
    "\n",
    "print(\"X.shape : \", X.shape)\n",
    "display_head_tail(X, head_rows=3, tail_rows=2)\n",
    "display(X.columns)\n",
    "\n",
    "\n",
    "print(\"X_test.shape : \", X_test.shape)\n",
    "display_head_tail(X_test, head_rows=3, tail_rows=2)\n",
    "display(X_test.columns)"
   ]
  },
  {
   "cell_type": "code",
   "execution_count": 68,
   "metadata": {
    "execution": {
     "iopub.execute_input": "2020-09-09T08:09:41.403458Z",
     "iopub.status.busy": "2020-09-09T08:09:41.402167Z",
     "iopub.status.idle": "2020-09-09T08:09:41.803133Z",
     "shell.execute_reply": "2020-09-09T08:09:41.803867Z"
    },
    "papermill": {
     "duration": 0.438439,
     "end_time": "2020-09-09T08:09:41.804151",
     "exception": false,
     "start_time": "2020-09-09T08:09:41.365712",
     "status": "completed"
    },
    "tags": []
   },
   "outputs": [],
   "source": [
    "df_solution = pd.DataFrame()\n",
    "df_solution['ID'] = test_ID\n",
    "value = 16\n",
    "clf = LGBMRegressor(boosting_type='gbdt',max_depth=6,learning_rate=0.25, n_estimators=80, min_split_gain=0.7,reg_alpha=0.00001,random_state = value)\n",
    "clf = clf.fit(X, y)\n",
    "predictions = clf.predict(X_test)"
   ]
  },
  {
   "cell_type": "code",
   "execution_count": 69,
   "metadata": {
    "execution": {
     "iopub.execute_input": "2020-09-09T08:09:42.122634Z",
     "iopub.status.busy": "2020-09-09T08:09:42.120940Z",
     "iopub.status.idle": "2020-09-09T08:09:42.238986Z",
     "shell.execute_reply": "2020-09-09T08:09:42.238172Z"
    },
    "papermill": {
     "duration": 0.141893,
     "end_time": "2020-09-09T08:09:42.239149",
     "exception": false,
     "start_time": "2020-09-09T08:09:42.097256",
     "status": "completed"
    },
    "tags": []
   },
   "outputs": [
    {
     "data": {
      "text/html": [
       "<div>\n",
       "<style scoped>\n",
       "    .dataframe tbody tr th:only-of-type {\n",
       "        vertical-align: middle;\n",
       "    }\n",
       "\n",
       "    .dataframe tbody tr th {\n",
       "        vertical-align: top;\n",
       "    }\n",
       "\n",
       "    .dataframe thead th {\n",
       "        text-align: right;\n",
       "    }\n",
       "</style>\n",
       "<table border=\"1\" class=\"dataframe\">\n",
       "  <thead>\n",
       "    <tr style=\"text-align: right;\">\n",
       "      <th></th>\n",
       "      <th>ID</th>\n",
       "      <th>Vehicles</th>\n",
       "    </tr>\n",
       "  </thead>\n",
       "  <tbody>\n",
       "    <tr>\n",
       "      <th>0</th>\n",
       "      <td>20170701001</td>\n",
       "      <td>74.749789</td>\n",
       "    </tr>\n",
       "    <tr>\n",
       "      <th>1</th>\n",
       "      <td>20170701011</td>\n",
       "      <td>62.797835</td>\n",
       "    </tr>\n",
       "    <tr>\n",
       "      <th>2</th>\n",
       "      <td>20170701021</td>\n",
       "      <td>52.463432</td>\n",
       "    </tr>\n",
       "    <tr>\n",
       "      <th>3</th>\n",
       "      <td>20170701031</td>\n",
       "      <td>41.907062</td>\n",
       "    </tr>\n",
       "    <tr>\n",
       "      <th>4</th>\n",
       "      <td>20170701041</td>\n",
       "      <td>37.379580</td>\n",
       "    </tr>\n",
       "  </tbody>\n",
       "</table>\n",
       "</div>"
      ],
      "text/plain": [
       "            ID   Vehicles\n",
       "0  20170701001  74.749789\n",
       "1  20170701011  62.797835\n",
       "2  20170701021  52.463432\n",
       "3  20170701031  41.907062\n",
       "4  20170701041  37.379580"
      ]
     },
     "metadata": {},
     "output_type": "display_data"
    }
   ],
   "source": [
    "df_solution['Vehicles'] = predictions\n",
    "display(df_solution.head())"
   ]
  }
 ],
 "metadata": {
  "kernelspec": {
   "display_name": "Python 3.9.6 64-bit",
   "language": "python",
   "name": "python3"
  },
  "language_info": {
   "codemirror_mode": {
    "name": "ipython",
    "version": 3
   },
   "file_extension": ".py",
   "mimetype": "text/x-python",
   "name": "python",
   "nbconvert_exporter": "python",
   "pygments_lexer": "ipython3",
   "version": "3.9.6"
  },
  "papermill": {
   "duration": 14.074631,
   "end_time": "2020-09-09T08:09:42.455138",
   "environment_variables": {},
   "exception": null,
   "input_path": "__notebook__.ipynb",
   "output_path": "__notebook__.ipynb",
   "parameters": {},
   "start_time": "2020-09-09T08:09:28.380507",
   "version": "2.1.0"
  },
  "vscode": {
   "interpreter": {
    "hash": "11938c6bc6919ae2720b4d5011047913343b08a43b18698fd82dedb0d4417594"
   }
  }
 },
 "nbformat": 4,
 "nbformat_minor": 4
}
